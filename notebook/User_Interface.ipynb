{
 "cells": [
  {
   "cell_type": "markdown",
   "id": "600df5d6",
   "metadata": {},
   "source": [
    "# Assignment 2 of Research Track2 course"
   ]
  },
  {
   "cell_type": "markdown",
   "id": "618297a3",
   "metadata": {},
   "source": [
    "## User Interface node"
   ]
  },
  {
   "cell_type": "markdown",
   "id": "d5a9a39b",
   "metadata": {},
   "source": [
    "In this notebook is implemented the code of the user interface in order to control the behavior of a robot. In order to do that this node interacts with nodes ***go_to_point.py*** and ***state_machine.cpp*** and ***position_service.cpp*** which are implemented in the package ***rt2_assignment1*** available at this link https://github.com/AliceNardelli/rt2_assignment1 in the branch action. In particular in this node are used different widgets such as buttons and sliders to pilot the robot and control its velocity.\n",
    "To conclude different method of visualization of data such as figures and barplot are used to clearly understand robot behavior."
   ]
  },
  {
   "cell_type": "markdown",
   "id": "c2a21e10",
   "metadata": {},
   "source": [
    "## How to run the code"
   ]
  },
  {
   "cell_type": "markdown",
   "id": "b5830bc7",
   "metadata": {},
   "source": [
    "Run inside a terminal and run:\n",
    "\n",
    "**roslaunch rt2_assignment1 Newsimjup.launch**\n",
    "\n",
    "In the meanwhile run this jupiter notebook."
   ]
  },
  {
   "cell_type": "markdown",
   "id": "db7d405a",
   "metadata": {},
   "source": [
    "Belows are imported needed headers and intialised  global variables"
   ]
  },
  {
   "cell_type": "code",
   "execution_count": 2,
   "id": "379617f6",
   "metadata": {
    "ExecuteTime": {
     "end_time": "2021-06-19T08:11:13.898850Z",
     "start_time": "2021-06-19T08:11:03.858290Z"
    }
   },
   "outputs": [],
   "source": [
    "\n",
    "from ipywidgets import Button, Layout, ButtonStyle, GridBox, VBox, HBox\n",
    "import numpy as np\n",
    "import matplotlib.pyplot as plt\n",
    "import jupyros as jr\n",
    "import rospy\n",
    "import time\n",
    "import math\n",
    "from rt2_assignment1.srv import Command\n",
    "import actionlib\n",
    "import rt2_assignment1.msg\n",
    "from geometry_msgs.msg import Twist\n",
    "from matplotlib import animation, rc\n",
    "import ipywidgets as widgets\n",
    "from IPython.display import display\n",
    "from matplotlib import animation, rc\n",
    "from matplotlib.animation import FuncAnimation\n",
    "from nav_msgs.msg import Odometry\n",
    "from rt2_assignment1.msg import GoalReachingActionResult\n",
    "%matplotlib widget\n",
    "\n",
    "#node initialized\n",
    "rospy.init_node('user_interface')\n",
    "#client of the user_interface to start the robot\n",
    "ui_client = rospy.ServiceProxy('/user_interface', Command)\n",
    "#client of the action to cancel the goal\n",
    "client = actionlib.SimpleActionClient('go_to_point', rt2_assignment1.msg.GoalReachingAction)\n",
    "#publisher of /cmd_vel to control robot's velocity\n",
    "pub=rospy.Publisher('/cmd_vel', Twist, queue_size=1)\n",
    "time.sleep(10)\n",
    "\n",
    "#global var\n",
    "cancelled=0 #counter to reached goals \n",
    "reached=0 #counter to cancelled goals\n",
    "active=False #bool variable to know when go to point behaviour is active\n",
    "start_time=0 #time var to know when the robot start reaching a goal\n",
    "stop_time=0  #time var to know when the robot reached a goal\n",
    "data = list() #list to plot the histogram\n",
    "\n",
    "clock = time.time() #get the offset of time\n",
    "time1 = list(range(0, 10)) #list for plot the time coordinate \n",
    "odom_linear =list() #list to plot the linear velocity gets by /odom\n",
    "cmdvel_linear=list() #list to plot the linear velocity gets by /cmd_vel\n",
    "odom_angular =list() #list to plot the angular velocity gets by /odom\n",
    "cmdvel_angular=list() #list to plot the angular velocity gets by /cmd_vel\n",
    "x_data=list() #list to plot the x coordinate gets by /odom\n",
    "y_data=list()  #list to plot the y coordinate gets by /odom\n",
    "dx=0.0 #var to store the orientation\n",
    "dy=1.0"
   ]
  },
  {
   "cell_type": "markdown",
   "id": "9e9538b6",
   "metadata": {},
   "source": [
    "## Start/Stop go to point via buttons"
   ]
  },
  {
   "cell_type": "markdown",
   "id": "b52383b4",
   "metadata": {},
   "source": [
    "In the cell below are implemented two button to start/stop the robot go_to_point behavior. To note that the service client is called inside the callback of the start button, whereas inside the callback of the stop button are called **/cmd_vel** publisher to stop the robot and the action client to cancel the goals."
   ]
  },
  {
   "cell_type": "code",
   "execution_count": 3,
   "id": "152caafc",
   "metadata": {
    "ExecuteTime": {
     "end_time": "2021-06-19T08:12:10.188860Z",
     "start_time": "2021-06-19T08:12:10.140328Z"
    }
   },
   "outputs": [],
   "source": [
    "\n",
    "button_start = widgets.Button(description=\"START\",layout=widgets.Layout(widht='auto',grid_area='b1'),\n",
    "                style=widgets.ButtonStyle(button_color='green'))\n",
    "\n",
    "button_stop = widgets.Button(description=\"STOP\",  layout=widgets.Layout(width='auto', grid_area='b2'),\n",
    "                    style=widgets.ButtonStyle(button_color='red'))\n",
    "\n",
    "def clicked_start(b): \n",
    "     global start_time\n",
    "     global active\n",
    "     #call the service client\n",
    "     ui_client(\"start\")      \n",
    "     active=True\n",
    "     start_time=time.time() \n",
    "        \n",
    "def clicked_stop(b):\n",
    "     global cancelled\n",
    "     global stop_time\n",
    "     global active\n",
    "     global data\n",
    "     # call the action client\n",
    "     client.cancel_all_goals()\n",
    "     twist_msg = Twist()\n",
    "     twist_msg.linear.x = 0\n",
    "     twist_msg.linear.y = 0\n",
    "     twist_msg.angular.z = 0\n",
    "     #publish a zero velocity\n",
    "     pub.publish(twist_msg)\n",
    "     ui_client(\"stop\")\n",
    "     if active==True:\n",
    "         cancelled = cancelled + 1 \n",
    "         active=False\n",
    "         stop_time=time.time()\n",
    "         data.append(stop_time-start_time)\n",
    " \n",
    "# on click method: code inside the clbk is executed only once the button is clicked\n",
    "\n",
    "button_start.on_click(clicked_start)\n",
    "button_stop.on_click(clicked_stop)"
   ]
  },
  {
   "cell_type": "code",
   "execution_count": 4,
   "id": "41130026",
   "metadata": {
    "ExecuteTime": {
     "end_time": "2021-06-19T08:12:12.105637Z",
     "start_time": "2021-06-19T08:12:12.068362Z"
    }
   },
   "outputs": [
    {
     "data": {
      "application/vnd.jupyter.widget-view+json": {
       "model_id": "2dabdca419e54be2ba575c26f3ff318b",
       "version_major": 2,
       "version_minor": 0
      },
      "text/plain": [
       "GridBox(children=(Button(description='START', layout=Layout(grid_area='b1'), style=ButtonStyle(button_color='g…"
      ]
     },
     "metadata": {},
     "output_type": "display_data"
    }
   ],
   "source": [
    "#grid box is used to order buttons\n",
    "widgets.GridBox(children=[button_start,button_stop],\n",
    "                layout=widgets.Layout(width='80%',grid_template_rows='auto auto auto',\n",
    "                grid_template_columns='16% 16% 16% 16% 16% 16% ',\n",
    "                grid_template_areas='''\"b1 b2 . . . \"''')\n",
    "               )"
   ]
  },
  {
   "cell_type": "markdown",
   "id": "a0bddfa3",
   "metadata": {},
   "source": [
    "# Callbacks"
   ]
  },
  {
   "cell_type": "markdown",
   "id": "a1d8ac33",
   "metadata": {},
   "source": [
    "In this session of the assignment are declared the subscribers to **/go_to_point/result**, **/odom**, **/cmd_vel**. Moreover are implemented the callbacks these topics. "
   ]
  },
  {
   "cell_type": "markdown",
   "id": "82720e0d",
   "metadata": {},
   "source": [
    "## /go_to_point/result callback"
   ]
  },
  {
   "cell_type": "markdown",
   "id": "be7d478c",
   "metadata": {},
   "source": [
    "**/go_to_point/result** is executed once a goal is reached.\n",
    "Due to this reason inside the clbk are updated different variables used to visualize robot behavior.\n",
    "* stop_time is taken to know the instant when a target is reached\n",
    "* data is a list where are store the values of time spent to reach a target. When a target is reached is append to that array the difference between start and stop time\n",
    "* the start time is get\n",
    "* once a target is reached the counter is increased by one"
   ]
  },
  {
   "cell_type": "code",
   "execution_count": 5,
   "id": "dd60b2df",
   "metadata": {
    "ExecuteTime": {
     "end_time": "2021-06-19T08:12:24.940407Z",
     "start_time": "2021-06-19T08:12:24.871942Z"
    }
   },
   "outputs": [
    {
     "data": {
      "application/vnd.jupyter.widget-view+json": {
       "model_id": "dee44c80f3f648f5a29e7c9309f1ca2c",
       "version_major": 2,
       "version_minor": 0
      },
      "text/plain": [
       "VBox(children=(HBox(children=(Button(description='Stop', style=ButtonStyle()),)), Output(layout=Layout(border=…"
      ]
     },
     "metadata": {},
     "output_type": "display_data"
    }
   ],
   "source": [
    "def clb(msg):\n",
    "  global reached\n",
    "  global start_time,stop_time\n",
    "  global take\n",
    "  global data \n",
    "  stop_time=time.time()\n",
    "  data.append(stop_time-start_time)\n",
    "  start_time=time.time()\n",
    "  reached = reached+1\n",
    "  \n",
    "\n",
    "jr.subscribe('/go_to_point/result',GoalReachingActionResult, clb)"
   ]
  },
  {
   "cell_type": "markdown",
   "id": "c9a43627",
   "metadata": {},
   "source": [
    "## /odom callback"
   ]
  },
  {
   "cell_type": "markdown",
   "id": "2d793fd2",
   "metadata": {},
   "source": [
    "This callback is used to retrieve values from Odometry. In particular:\n",
    "1. linear velocity along x \n",
    "2. angular velocity around z\n",
    "3. x coordinate\n",
    "4. y coordinate\n",
    "5. quaternion\n",
    "\n",
    "\n",
    "Values retrieved are used to update the array containing values used to plot linear, angular velocity and pose.\n",
    "In order to plot the orientation the rotation around z axis is calculated starting from quaternion. The **yaw** is retrieved by **euler_from_quaternion** function. The yaw is then normalized in a value in between [-pi, +pi]. Finally in order to compute the  x and y component of orientation are calculated the cosine and the sine of the yaw\n"
   ]
  },
  {
   "cell_type": "code",
   "execution_count": 6,
   "id": "677af71d",
   "metadata": {
    "ExecuteTime": {
     "end_time": "2021-06-19T08:12:30.526026Z",
     "start_time": "2021-06-19T08:12:30.395981Z"
    }
   },
   "outputs": [
    {
     "data": {
      "application/vnd.jupyter.widget-view+json": {
       "model_id": "1aff8707c87b40f3920415d1da88dcc1",
       "version_major": 2,
       "version_minor": 0
      },
      "text/plain": [
       "VBox(children=(HBox(children=(Button(description='Stop', style=ButtonStyle()),)), Output(layout=Layout(border=…"
      ]
     },
     "metadata": {},
     "output_type": "display_data"
    }
   ],
   "source": [
    "# to get a value between -pi and +pi\n",
    "def normalize_angle(angle):\n",
    "    if(math.fabs(angle) > math.pi):\n",
    "        angle = angle - (2 * math.pi * angle) / (math.fabs(angle))\n",
    "    return angle\n",
    "\n",
    "#quaternion - euler angles(roll, pitch, yaw) conversion\n",
    "def euler_from_quaternion(x, y, z, w):\n",
    "        t0 = +2.0 * (w * x + y * z)\n",
    "        t1 = +1.0 - 2.0 * (x * x + y * y)\n",
    "        roll_x = math.atan2(t0, t1)\n",
    "     \n",
    "        t2 = +2.0 * (w * y - z * x)\n",
    "        t2 = +1.0 if t2 > +1.0 else t2\n",
    "        t2 = -1.0 if t2 < -1.0 else t2\n",
    "        pitch_y = math.asin(t2)\n",
    "     \n",
    "        t3 = +2.0 * (w * z + x * y)\n",
    "        t4 = +1.0 - 2.0 * (y * y + z * z)\n",
    "        yaw_z = math.atan2(t3, t4)\n",
    "     \n",
    "        return roll_x, pitch_y, yaw_z \n",
    "    \n",
    "def clb_odom(msg):\n",
    "    global dx,dy\n",
    "    global  y_data,x_data\n",
    "    global time1,odom_angular,odom_linear\n",
    "    if len(time1)>10:\n",
    "      time1.pop(0)\n",
    "      odom_angular.pop(0)\n",
    "      odom_linear.pop(0)\n",
    "    #get angular and linear velocity\n",
    "    y1 = np.float32(msg.twist.twist.angular.z)\n",
    "    y2 = np.float32(msg.twist.twist.linear.x)\n",
    "    #update timeline\n",
    "    t = np.float32(time.time()-clock)\n",
    "    #actual data inserted in array\n",
    "    odom_angular.append(y1)\n",
    "    time1.append(t)\n",
    "    odom_linear.append(y2)\n",
    "    \n",
    "    if len(x_data)>50:\n",
    "       x_data.pop(0)\n",
    "       y_data.pop(0)\n",
    "    #get position value\n",
    "    y3 = np.float32(msg.pose.pose.position.y)\n",
    "    x3 = np.float32(msg.pose.pose.position.x)\n",
    "    #array values inserted\n",
    "    y_data.append(y3)\n",
    "    x_data.append(x3)\n",
    "    #get quaternion\n",
    "    quaternion = (\n",
    "        msg.pose.pose.orientation.x,\n",
    "        msg.pose.pose.orientation.y,\n",
    "        msg.pose.pose.orientation.z,\n",
    "        msg.pose.pose.orientation.w)\n",
    "    #get euler angles\n",
    "    euler = euler_from_quaternion(quaternion[0],quaternion[1],quaternion[2],quaternion[3])\n",
    "    #only need of yaw (rotation around z axis)\n",
    "    yaw_ = euler[2]\n",
    "    #normalize the yaw\n",
    "    normalized_yaw=normalize_angle(yaw_)\n",
    "    #get yaw x and y component\n",
    "    dx=math.cos(normalized_yaw)\n",
    "    dy=math.sin(normalized_yaw)\n",
    "    \n",
    "jr.subscribe('/odom',Odometry, clb_odom)"
   ]
  },
  {
   "cell_type": "markdown",
   "id": "d2663118",
   "metadata": {},
   "source": [
    "## /cmd_vel callback"
   ]
  },
  {
   "cell_type": "markdown",
   "id": "b0af3dbe",
   "metadata": {},
   "source": [
    "Inside **/cmd_vel** callback are retrieved values of angular and linear velocity. Then this values are appended inside the arrays in order to plot them."
   ]
  },
  {
   "cell_type": "code",
   "execution_count": 7,
   "id": "1a532508",
   "metadata": {
    "ExecuteTime": {
     "end_time": "2021-06-19T08:12:32.869346Z",
     "start_time": "2021-06-19T08:12:32.755442Z"
    }
   },
   "outputs": [
    {
     "data": {
      "application/vnd.jupyter.widget-view+json": {
       "model_id": "326e9018f77e43c0bcd248ee5eda4aa2",
       "version_major": 2,
       "version_minor": 0
      },
      "text/plain": [
       "VBox(children=(HBox(children=(Button(description='Stop', style=ButtonStyle()),)), Output(layout=Layout(border=…"
      ]
     },
     "metadata": {},
     "output_type": "display_data"
    }
   ],
   "source": [
    "def clb_cmdvel(msg):\n",
    "    global cmdvel_angular,cmdvel_linear\n",
    "    if len(cmdvel_linear)>10:\n",
    "      cmdvel_linear.pop(0)\n",
    "      cmdvel_angular.pop(0)\n",
    "    #get values\n",
    "    iupsilon1 = np.float32(msg.linear.x)\n",
    "    iupsilon2 = np.float32(msg.angular.z)\n",
    "    #update arrays\n",
    "    cmdvel_angular.append(iupsilon2)\n",
    "    cmdvel_linear.append(iupsilon1)\n",
    "\n",
    "jr.subscribe('/cmd_vel', Twist, clb_cmdvel)"
   ]
  },
  {
   "cell_type": "markdown",
   "id": "2cea0e2d",
   "metadata": {},
   "source": [
    "## Set linear/angular velocity via sliders"
   ]
  },
  {
   "cell_type": "markdown",
   "id": "26f69852",
   "metadata": {},
   "source": [
    "There are inserted two slider through which the user can chose a suitable linear or angular velocity to pilot the robot. These is possible through the observe method. When a value on the slider is set, the the callback is call. Inside the callback a Twist() message is published on **/cmd_vel**"
   ]
  },
  {
   "cell_type": "code",
   "execution_count": 8,
   "id": "4cc0cd4d",
   "metadata": {
    "ExecuteTime": {
     "end_time": "2021-06-19T08:12:35.750841Z",
     "start_time": "2021-06-19T08:12:35.680882Z"
    }
   },
   "outputs": [
    {
     "data": {
      "application/vnd.jupyter.widget-view+json": {
       "model_id": "c65d16afed6648efac29f218002f4455",
       "version_major": 2,
       "version_minor": 0
      },
      "text/plain": [
       "FloatSlider(value=0.0, description='linear velocity', max=1.0, min=-1.0, style=SliderStyle(handle_color='light…"
      ]
     },
     "metadata": {},
     "output_type": "display_data"
    },
    {
     "data": {
      "application/vnd.jupyter.widget-view+json": {
       "model_id": "624ad02b742149bfafc90ec999e2558d",
       "version_major": 2,
       "version_minor": 0
      },
      "text/plain": [
       "FloatSlider(value=0.0, description='angular velocity', max=1.0, min=-1.0, style=SliderStyle(handle_color='ligh…"
      ]
     },
     "metadata": {},
     "output_type": "display_data"
    }
   ],
   "source": [
    "msg = Twist()\n",
    "\n",
    "a = widgets.FloatSlider(description='linear velocity' ,min=-1.0, max=1.0)\n",
    "a.style.handle_color = 'lightblue'\n",
    "display(a)\n",
    "\n",
    "b = widgets.FloatSlider(description='angular velocity',min=-1.0, max=1.0)\n",
    "b.style.handle_color = 'lightblue'\n",
    "display(b)\n",
    "\n",
    "\n",
    "def on_value_change(change):\n",
    "    global msg\n",
    "    msg.linear.x = change['new']\n",
    "    pub.publish(msg)\n",
    "    \n",
    "def on_valueang_change(change):\n",
    "    global msg\n",
    "    msg.angular.z = change['new']\n",
    "    pub.publish(msg)\n",
    "\n",
    "a.observe(on_value_change, names='value')\n",
    "b.observe(on_valueang_change, names='value')"
   ]
  },
  {
   "cell_type": "markdown",
   "id": "6e6f9a32",
   "metadata": {},
   "source": [
    "## Button controller of the robot"
   ]
  },
  {
   "cell_type": "markdown",
   "id": "8fd8b489",
   "metadata": {},
   "source": [
    "Through this five buttons the user can directly pilot the robot. In order to do that inside the callback of each button firstly is called **stop()** function in order to stop go_to_point behavior through the action client secondly is published a specific velocity. The values of velocity are set in Twist message according to the choose of the user."
   ]
  },
  {
   "cell_type": "code",
   "execution_count": 9,
   "id": "40316ff0",
   "metadata": {
    "ExecuteTime": {
     "end_time": "2021-06-19T08:12:38.085903Z",
     "start_time": "2021-06-19T08:12:37.979837Z"
    }
   },
   "outputs": [],
   "source": [
    "\n",
    "button_f = widgets.Button(description=\"forward\",layout=Layout(width='auto', grid_area='B1'),\n",
    "style=ButtonStyle(button_color='lightblue'))\n",
    "\n",
    "button_tl = widgets.Button(description=\"turn left\",layout=Layout(width='auto', grid_area='B2'),\n",
    "style=ButtonStyle(button_color='salmon'))\n",
    "\n",
    "button_bw = widgets.Button(description=\"backward\",layout=Layout(width='auto', grid_area='B3'),\n",
    "style=ButtonStyle(button_color='lightblue'))\n",
    "\n",
    "button_tr = widgets.Button(description=\"turn right\",layout=Layout(width='auto', grid_area='B4'),\n",
    "style=ButtonStyle(button_color='salmon'))\n",
    "\n",
    "button_s = widgets.Button(description=\"stop\",layout=Layout(width='auto', grid_area='B5'),\n",
    "style=ButtonStyle(button_color='red'))\n",
    "\n",
    "\n",
    "\n",
    "def stop():\n",
    "     global cancelled\n",
    "     global stop_time\n",
    "     global take,active\n",
    "     global data\n",
    "     #cancel goal\n",
    "     client.cancel_all_goals()\n",
    "     twist_msg = Twist()\n",
    "     twist_msg.linear.x = 0\n",
    "     twist_msg.linear.y = 0\n",
    "     twist_msg.angular.z = 0\n",
    "     #stop the robot\n",
    "     pub.publish(twist_msg)\n",
    "     ui_client(\"stop\")\n",
    "     if active==True:\n",
    "        #cancelled increased\n",
    "         cancelled = cancelled + 1 \n",
    "         active=False\n",
    "         #take the stop time instant\n",
    "         stop_time=time.time()\n",
    "        #added a new cell in the list of the histogram\n",
    "         data.append(stop_time-start_time)\n",
    "        \n",
    "def clicked_f(f):\n",
    "     stop()\n",
    "     twist_msg = Twist()\n",
    "     twist_msg.linear.x = 1\n",
    "     twist_msg.linear.y=0\n",
    "     twist_msg.angular.z = 0\n",
    "     pub.publish(twist_msg)\n",
    "        \n",
    "def clicked_tl(f):\n",
    "     stop()\n",
    "     twist_msg = Twist()\n",
    "     twist_msg.linear.x = 0\n",
    "     twist_msg.linear.y=0\n",
    "     twist_msg.angular.z = 1\n",
    "     pub.publish(twist_msg)\n",
    "        \n",
    "def clicked_tr(f):\n",
    "     stop()\n",
    "     twist_msg = Twist()\n",
    "     twist_msg.linear.x = 0\n",
    "     twist_msg.linear.y=0\n",
    "     twist_msg.angular.z = -1\n",
    "     pub.publish(twist_msg)\n",
    "        \n",
    "def clicked_bw(f):\n",
    "     stop()\n",
    "     twist_msg = Twist()\n",
    "     twist_msg.linear.x = -1\n",
    "     twist_msg.linear.y=0\n",
    "     twist_msg.angular.z = 0\n",
    "     pub.publish(twist_msg)\n",
    "    \n",
    "def clicked_s(b):\n",
    "     stop()\n",
    "     twist_msg = Twist()\n",
    "     twist_msg.linear.x = 0\n",
    "     twist_msg.linear.y=0\n",
    "     twist_msg.angular.z = 0\n",
    "     pub.publish(twist_msg)\n",
    "    \n",
    "\n",
    "            \n",
    "            \n",
    "button_f.on_click(clicked_f)\n",
    "button_tr.on_click(clicked_tr)\n",
    "button_bw.on_click(clicked_bw)\n",
    "button_tl.on_click(clicked_tl)\n",
    "button_s.on_click(clicked_s)\n",
    "\n"
   ]
  },
  {
   "cell_type": "code",
   "execution_count": 10,
   "id": "96e60fde",
   "metadata": {
    "ExecuteTime": {
     "end_time": "2021-06-19T08:12:39.015130Z",
     "start_time": "2021-06-19T08:12:38.983165Z"
    }
   },
   "outputs": [
    {
     "data": {
      "application/vnd.jupyter.widget-view+json": {
       "model_id": "9859b7945b4743f8be86fd0aef3d3874",
       "version_major": 2,
       "version_minor": 0
      },
      "text/plain": [
       "GridBox(children=(Button(description='forward', layout=Layout(grid_area='B1', width='auto'), style=ButtonStyle…"
      ]
     },
     "metadata": {},
     "output_type": "display_data"
    }
   ],
   "source": [
    "widgets.GridBox(children=[button_f, button_bw,button_tl,button_tr ,button_s],\n",
    "                layout=widgets.Layout(width='80%',grid_template_rows='auto auto auto',\n",
    "                grid_template_columns='16% 16% 16% 16% 16% 16% ',\n",
    "                grid_template_areas='''\". .  . B1  . .\"\". . B2 B5 B4 . \"\" . .  . B3 . . \"''')\n",
    "               )"
   ]
  },
  {
   "cell_type": "markdown",
   "id": "9d977479",
   "metadata": {},
   "source": [
    "## Reached and Cancelled goal visualization through barplot"
   ]
  },
  {
   "cell_type": "markdown",
   "id": "1f682512",
   "metadata": {},
   "source": [
    "In this cell is inserted a barplot to visualize reached and cancelled targets. The values **reached** is updated inside the callback of **/go_to_point/result** whereas the **cancelled** variable is increased each time action client is called (if reaching goal behavior is active). **cancelled** is increased in the callback of stop button and inside the **stop()** function."
   ]
  },
  {
   "cell_type": "code",
   "execution_count": 17,
   "id": "f0a9b3f6",
   "metadata": {
    "ExecuteTime": {
     "end_time": "2021-06-19T08:14:37.533653Z",
     "start_time": "2021-06-19T08:14:37.440209Z"
    }
   },
   "outputs": [
    {
     "data": {
      "application/vnd.jupyter.widget-view+json": {
       "model_id": "8472614bf611421d965cb8e57f2e69f1",
       "version_major": 2,
       "version_minor": 0
      },
      "text/plain": [
       "Canvas(toolbar=Toolbar(toolitems=[('Home', 'Reset original view', 'home', 'home'), ('Back', 'Back to previous …"
      ]
     },
     "metadata": {},
     "output_type": "display_data"
    },
    {
     "data": {
      "text/plain": [
       "Text(0.5, 1.0, 'Reached and cancelled targets')"
      ]
     },
     "execution_count": 17,
     "metadata": {},
     "output_type": "execute_result"
    }
   ],
   "source": [
    "f1,axis1= plt.subplots()\n",
    "\n",
    "y = (reached,cancelled)\n",
    "index = np.array(['Reached','Cancelled'])\n",
    "bar=axis1.bar(index,y,width=0.5,color='b')\n",
    "axis1.set_title('Reached and cancelled targets')\n"
   ]
  },
  {
   "cell_type": "markdown",
   "id": "04f66aa1",
   "metadata": {},
   "source": [
    "## Mean time to reach a goal: histogram visualization"
   ]
  },
  {
   "cell_type": "markdown",
   "id": "dfedf890",
   "metadata": {},
   "source": [
    "The histogram shows the mean time to reach a goal in go_to_point behavior. To compute the value a timer is set each time the robot starts to reach a goal and terminated once the goal is reached. "
   ]
  },
  {
   "cell_type": "code",
   "execution_count": 16,
   "id": "2fe7cfff",
   "metadata": {
    "ExecuteTime": {
     "end_time": "2021-06-19T08:14:32.466253Z",
     "start_time": "2021-06-19T08:14:32.353099Z"
    }
   },
   "outputs": [
    {
     "data": {
      "application/vnd.jupyter.widget-view+json": {
       "model_id": "27043d2326ad4929af010da5583de4ab",
       "version_major": 2,
       "version_minor": 0
      },
      "text/plain": [
       "Canvas(toolbar=Toolbar(toolitems=[('Home', 'Reset original view', 'home', 'home'), ('Back', 'Back to previous …"
      ]
     },
     "metadata": {},
     "output_type": "display_data"
    },
    {
     "data": {
      "text/plain": [
       "Text(0.5, 1.0, 'Mean time to reach a target')"
      ]
     },
     "execution_count": 16,
     "metadata": {},
     "output_type": "execute_result"
    }
   ],
   "source": [
    "f2,axis2=plt.subplots()\n",
    "\n",
    "X=list(range(0,len(data),1))\n",
    "bar2=axis2.bar(X,data,width=0.5,color='r')\n",
    "axis2.set_title('Mean time to reach a target')\n"
   ]
  },
  {
   "cell_type": "markdown",
   "id": "b63c7f41",
   "metadata": {},
   "source": [
    "## Figures with the animator"
   ]
  },
  {
   "cell_type": "markdown",
   "id": "d21cb1da",
   "metadata": {},
   "source": [
    "In the followed cell are represented firstly **/cmd_vel** and **/odom** linear velocity and angular velocity as lines. Values to show are continuously updated inside the callback whereas inside the animator figures are reshaped."
   ]
  },
  {
   "cell_type": "markdown",
   "id": "4910fb49",
   "metadata": {},
   "source": [
    "## Linear velocity"
   ]
  },
  {
   "cell_type": "code",
   "execution_count": 18,
   "id": "7f2fd973",
   "metadata": {
    "ExecuteTime": {
     "end_time": "2021-06-19T08:14:43.768552Z",
     "start_time": "2021-06-19T08:14:43.763735Z"
    }
   },
   "outputs": [],
   "source": [
    "\n",
    "def init1():\n",
    "    line1.set_data([], [])\n",
    "    line2.set_data([], [])\n",
    "    return [line1,line2]\n",
    "    "
   ]
  },
  {
   "cell_type": "code",
   "execution_count": 20,
   "id": "8b83a499",
   "metadata": {
    "ExecuteTime": {
     "end_time": "2021-06-19T08:15:08.441491Z",
     "start_time": "2021-06-19T08:15:08.331947Z"
    }
   },
   "outputs": [
    {
     "data": {
      "application/vnd.jupyter.widget-view+json": {
       "model_id": "729ba56615ba4b809f60a5f5cdfeab48",
       "version_major": 2,
       "version_minor": 0
      },
      "text/plain": [
       "Canvas(toolbar=Toolbar(toolitems=[('Home', 'Reset original view', 'home', 'home'), ('Back', 'Back to previous …"
      ]
     },
     "metadata": {},
     "output_type": "display_data"
    },
    {
     "data": {
      "text/plain": [
       "<matplotlib.legend.Legend at 0x7f78a8180a30>"
      ]
     },
     "execution_count": 20,
     "metadata": {},
     "output_type": "execute_result"
    }
   ],
   "source": [
    "fig1, ax1 = plt.subplots()\n",
    "\n",
    "\n",
    "\n",
    "line1, = ax1.plot([], [], color ='r', label ='/odom')\n",
    "line2, = ax1.plot([], [], color ='b', label ='/cmd_vel')\n",
    "ax1.set_xlabel('time (s)') \n",
    "ax1.set_ylabel('velocity m/s')\n",
    "ax1.set_title(\"Linear velocity\")\n",
    "plt.legend(loc='upper right')"
   ]
  },
  {
   "cell_type": "code",
   "execution_count": 21,
   "id": "2553fc42",
   "metadata": {
    "ExecuteTime": {
     "end_time": "2021-06-19T08:15:11.855679Z",
     "start_time": "2021-06-19T08:15:11.843292Z"
    }
   },
   "outputs": [],
   "source": [
    "def animate1(i):\n",
    "    #updated values are set in the line\n",
    "    line1.set_data(time1, odom_linear)\n",
    "    line2.set_data(time1, cmdvel_linear)\n",
    "    ax1.axis([time1[0]-0.2,time1[9]+0.2,-0.5,0.5]) #x axis is continously updated too   \n",
    "    return [line1,line2]\n",
    "\n",
    "#animator\n",
    "anim1 = animation.FuncAnimation(fig1, animate1, init_func=init1,\n",
    "                               frames=100, interval=20, blit=True)"
   ]
  },
  {
   "cell_type": "markdown",
   "id": "bd20de85",
   "metadata": {},
   "source": [
    "## Angular velocity"
   ]
  },
  {
   "cell_type": "code",
   "execution_count": 22,
   "id": "d0171f6b",
   "metadata": {
    "ExecuteTime": {
     "end_time": "2021-06-19T08:15:22.298369Z",
     "start_time": "2021-06-19T08:15:22.292764Z"
    }
   },
   "outputs": [],
   "source": [
    "def init2():\n",
    "    line3.set_data([], [])\n",
    "    line4.set_data([], [])\n",
    "    return [line3,line4]\n"
   ]
  },
  {
   "cell_type": "code",
   "execution_count": 23,
   "id": "e5edee61",
   "metadata": {
    "ExecuteTime": {
     "end_time": "2021-06-19T08:15:23.107555Z",
     "start_time": "2021-06-19T08:15:22.993481Z"
    }
   },
   "outputs": [
    {
     "data": {
      "application/vnd.jupyter.widget-view+json": {
       "model_id": "60b2a466092943de88e3ab9055fd319e",
       "version_major": 2,
       "version_minor": 0
      },
      "text/plain": [
       "Canvas(toolbar=Toolbar(toolitems=[('Home', 'Reset original view', 'home', 'home'), ('Back', 'Back to previous …"
      ]
     },
     "metadata": {},
     "output_type": "display_data"
    },
    {
     "data": {
      "text/plain": [
       "<matplotlib.legend.Legend at 0x7f78a80e2bb0>"
      ]
     },
     "execution_count": 23,
     "metadata": {},
     "output_type": "execute_result"
    }
   ],
   "source": [
    "fig2, ax2 = plt.subplots()\n",
    "\n",
    "\n",
    "\n",
    "line3, = ax2.plot([], [], color ='r', label ='/odom')\n",
    "line4, = ax2.plot([], [], color ='b', label ='/cmd_vel')\n",
    "ax2.set_xlabel('time (s)') \n",
    "ax2.set_ylabel('velocity rad/s')\n",
    "ax2.set_title(\"Angular velocity\")\n",
    "plt.legend(loc='upper right')"
   ]
  },
  {
   "cell_type": "code",
   "execution_count": 24,
   "id": "ae8f48dc",
   "metadata": {
    "ExecuteTime": {
     "end_time": "2021-06-19T08:15:37.680051Z",
     "start_time": "2021-06-19T08:15:37.669518Z"
    }
   },
   "outputs": [],
   "source": [
    "\n",
    "def animate2(i):\n",
    "    line3.set_data(time1, odom_angular)\n",
    "    line4.set_data(time1, cmdvel_angular)\n",
    "    ax2.axis([time1[0]-0.2,time1[9]+0.2,-0.5,0.5])\n",
    "    return [line3,line4]\n",
    "\n",
    "anim2 = animation.FuncAnimation(fig2, animate2, init_func=init2,\n",
    "                               frames=100, interval=20, blit=True)"
   ]
  },
  {
   "cell_type": "markdown",
   "id": "be163e1a",
   "metadata": {},
   "source": [
    "## Position of the robot in the environment"
   ]
  },
  {
   "cell_type": "markdown",
   "id": "cf898d61",
   "metadata": {},
   "source": [
    "Finally through the animator is plot the x and y position of the robot in the (x,y) plane. According to that it is possible to visualize how robot moves in the environment."
   ]
  },
  {
   "cell_type": "code",
   "execution_count": 25,
   "id": "6b5dbc7a",
   "metadata": {
    "ExecuteTime": {
     "end_time": "2021-06-19T08:15:45.189164Z",
     "start_time": "2021-06-19T08:15:45.070314Z"
    }
   },
   "outputs": [
    {
     "data": {
      "application/vnd.jupyter.widget-view+json": {
       "model_id": "160601555fda4f09bc5ce148850e5ed4",
       "version_major": 2,
       "version_minor": 0
      },
      "text/plain": [
       "Canvas(toolbar=Toolbar(toolitems=[('Home', 'Reset original view', 'home', 'home'), ('Back', 'Back to previous …"
      ]
     },
     "metadata": {},
     "output_type": "display_data"
    }
   ],
   "source": [
    "fig, ax = plt.subplots()\n",
    "\n",
    "ax.set_xlim(( -5, 5))\n",
    "ax.set_ylim((-5, 5))\n",
    "ax.set_xlabel('x axis') \n",
    "ax.set_ylabel('y axis')\n",
    "ax.set_title(\"Position\")\n",
    "\n",
    "line, = ax.plot([], [], 'ro')\n",
    "    "
   ]
  },
  {
   "cell_type": "code",
   "execution_count": 26,
   "id": "674cd298",
   "metadata": {
    "ExecuteTime": {
     "end_time": "2021-06-19T08:15:45.796253Z",
     "start_time": "2021-06-19T08:15:45.778004Z"
    }
   },
   "outputs": [],
   "source": [
    "def init():\n",
    "    line.set_data([], [])\n",
    "    \n",
    "    return (line,)\n"
   ]
  },
  {
   "cell_type": "code",
   "execution_count": 27,
   "id": "901b841b",
   "metadata": {
    "ExecuteTime": {
     "end_time": "2021-06-19T08:15:49.081279Z",
     "start_time": "2021-06-19T08:15:49.071948Z"
    }
   },
   "outputs": [],
   "source": [
    "def animate(i):\n",
    "    line.set_data(x_data, y_data)\n",
    "    return (line,)\n",
    "\n",
    "anim = animation.FuncAnimation(fig, animate, init_func=init,\n",
    "                               frames=100, interval=20, blit=True)"
   ]
  },
  {
   "cell_type": "markdown",
   "id": "b15df01f",
   "metadata": {},
   "source": [
    "## Orientation of the robot"
   ]
  },
  {
   "cell_type": "markdown",
   "id": "22531a67",
   "metadata": {},
   "source": [
    "The orientation is shown as an arrow place where robot is in the environment and with the same orientation of the robot. **axis.quiver** allows to show the arrow, the orientation of the arrow is updated inside the animator."
   ]
  },
  {
   "cell_type": "code",
   "execution_count": 28,
   "id": "e88e3552",
   "metadata": {
    "ExecuteTime": {
     "end_time": "2021-06-19T08:19:03.845387Z",
     "start_time": "2021-06-19T08:19:03.738403Z"
    }
   },
   "outputs": [
    {
     "data": {
      "application/vnd.jupyter.widget-view+json": {
       "model_id": "31f3f116833c4570ac4f8709ad718d09",
       "version_major": 2,
       "version_minor": 0
      },
      "text/plain": [
       "Canvas(toolbar=Toolbar(toolitems=[('Home', 'Reset original view', 'home', 'home'), ('Back', 'Back to previous …"
      ]
     },
     "metadata": {},
     "output_type": "display_data"
    }
   ],
   "source": [
    "fig4, ax4 = plt.subplots()\n",
    "ax4.axis([-5, 5, -5, 5])\n",
    "ax4.quiver(0,0,dx,dy,label='Orientation')\n",
    "ax4.set_title(\"Orientation\")\n",
    "ax4.legend()\n",
    "line4, = ax4.plot([], [],color= 'r')"
   ]
  },
  {
   "cell_type": "code",
   "execution_count": 29,
   "id": "d392582d",
   "metadata": {
    "ExecuteTime": {
     "end_time": "2021-06-19T08:19:04.824163Z",
     "start_time": "2021-06-19T08:19:04.807817Z"
    }
   },
   "outputs": [],
   "source": [
    "def init4():\n",
    "    ax4.quiver(0,0,dx,dy,label='Orientation')\n",
    "    return (line4,)\n",
    "\n",
    "def animate4(i):\n",
    "    global dx,dy\n",
    "    ax4.clear()\n",
    "    ax4.quiver(x_data[49],y_data[49],dx,dy,label='Orientation')\n",
    "    ax4.legend()\n",
    "    ax4.set_title(\"Orientation\")\n",
    "    return (line4,)\n",
    "\n",
    "anim4=animation.FuncAnimation(fig4, animate4, init_func=init4, frames=1, interval=100, blit=True)"
   ]
  },
  {
   "cell_type": "markdown",
   "id": "e3414d3e",
   "metadata": {},
   "source": [
    "## Possible improvement"
   ]
  },
  {
   "cell_type": "markdown",
   "id": "fc310cbd",
   "metadata": {},
   "source": [
    "* In order to visualize the barplot and the histogram each time is necessary to run the cell. It should be better to plot them into a figure which update on its own. The animator has a frequency of update which is higher then necessary, so I have preferred this design choice. Maybe to update them into a loop which reshape the image at a lower frequency should be an idea.\n",
    "\n",
    "* The orientation is shown with an arrow moving with the robot and its orientation. It maybe should be better show it in the same image of the position. Moreover the issue of showing orientation as an arrow, the dynamic of the image is slower the the dynamic of the robot. This is due to the fact that each time is necessary to clear and generate again the image. Maybe show it only as a segment as in previous cases should be an improvement.\n",
    "\n",
    "* The action client call the server inside the node **state_machine.cpp** whereas the goal are canceled inside the **user_interface.py** in the **action** branch or inside the **user_interface notebook** for what regard **sphinx** branch. Certainly it would be a better software architecture choice to declare only one client inside the **state_machine.cpp** and communicate with **go_to_point.py** only from that node.\n",
    "\n",
    "* An error of this implementation is certainly the fact that when the user clicks STOP button the robot does not stop suddenly but waits to reach the goal and then stops. This is due to the fact that the server is called with the function **ac.sendGoal(goal)** and then the result is waited with **ac.waitForResult(ros::Duration(120.0))** which is blocking. An asynchronous method (**ac.sendGoal(goal, &doneCb, &activeCb, &feedbackCb)**) to manage this behavior is the solution."
   ]
  }
 ],
 "metadata": {
  "kernelspec": {
   "display_name": "Python 3",
   "language": "python",
   "name": "python3"
  },
  "language_info": {
   "codemirror_mode": {
    "name": "ipython",
    "version": 3
   },
   "file_extension": ".py",
   "mimetype": "text/x-python",
   "name": "python",
   "nbconvert_exporter": "python",
   "pygments_lexer": "ipython3",
   "version": "3.8.5"
  }
 },
 "nbformat": 4,
 "nbformat_minor": 5
}
