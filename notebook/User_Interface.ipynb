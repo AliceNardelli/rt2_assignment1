{
 "cells": [
  {
   "cell_type": "markdown",
   "id": "600df5d6",
   "metadata": {},
   "source": [
    "# Assignment 2 of Research Track2 course"
   ]
  },
  {
   "cell_type": "markdown",
   "id": "618297a3",
   "metadata": {},
   "source": [
    "## User Interface node"
   ]
  },
  {
   "cell_type": "markdown",
   "id": "d5a9a39b",
   "metadata": {},
   "source": [
    "In this notebook is implemented the code of the user interface in order to control the behavior of a robot. In order to do that this node interacts with nodes ***go_to_point.py*** and ***state_machine.cpp*** and ***position_service.cpp*** which are implemented in the package ***rt2_assignment1*** available at this link https://github.com/AliceNardelli/rt2_assignment1 in the branch action. In particular in this node are used different widgets such as buttons and sliders to pilot the robot and control its velocity.\n",
    "To conclude different method of visualization of data such as figures and barplot are used to clearly understand robot behavior."
   ]
  },
  {
   "cell_type": "markdown",
   "id": "c2a21e10",
   "metadata": {},
   "source": [
    "## How to run the code"
   ]
  },
  {
   "cell_type": "markdown",
   "id": "b5830bc7",
   "metadata": {},
   "source": [
    "Run inside a terminal and run:\n",
    "\n",
    "**roslaunch rt2_assignment1 Newsimjup.launch**\n",
    "\n",
    "In the meanwhile run this jupiter notebook."
   ]
  },
  {
   "cell_type": "markdown",
   "id": "db7d405a",
   "metadata": {},
   "source": [
    "Belows are imported needed headers and intialised  global variables"
   ]
  },
  {
   "cell_type": "code",
   "execution_count": 1,
   "id": "379617f6",
   "metadata": {
    "ExecuteTime": {
     "end_time": "2021-06-13T23:59:08.287062Z",
     "start_time": "2021-06-13T23:58:55.966392Z"
    }
   },
   "outputs": [],
   "source": [
    "\n",
    "from ipywidgets import Button, Layout, ButtonStyle, GridBox, VBox, HBox\n",
    "import numpy as np\n",
    "import matplotlib.pyplot as plt\n",
    "import jupyros as jr\n",
    "import rospy\n",
    "import time\n",
    "import math\n",
    "from rt2_assignment1.srv import Command\n",
    "import actionlib\n",
    "import rt2_assignment1.msg\n",
    "from geometry_msgs.msg import Twist\n",
    "from matplotlib import animation, rc\n",
    "import ipywidgets as widgets\n",
    "from IPython.display import display\n",
    "from matplotlib import animation, rc\n",
    "from matplotlib.animation import FuncAnimation\n",
    "from nav_msgs.msg import Odometry\n",
    "from rt2_assignment1.msg import GoalReachingActionResult\n",
    "%matplotlib widget\n",
    "\n",
    "#node initialized\n",
    "rospy.init_node('user_interface')\n",
    "#client of the user_interface to start the robot\n",
    "ui_client = rospy.ServiceProxy('/user_interface', Command)\n",
    "#client of the action to cancel the goal\n",
    "client = actionlib.SimpleActionClient('go_to_point', rt2_assignment1.msg.GoalReachingAction)\n",
    "#publisher of /cmd_vel to control robot's velocity\n",
    "pub=rospy.Publisher('/cmd_vel', Twist, queue_size=1)\n",
    "time.sleep(10)\n",
    "\n",
    "#global var\n",
    "cancelled=0 \n",
    "reached=0 \n",
    "active=False\n",
    "start_time=0\n",
    "stop_time=0\n",
    "data = list()\n",
    "\n"
   ]
  },
  {
   "cell_type": "markdown",
   "id": "9e9538b6",
   "metadata": {},
   "source": [
    "## Start/Stop go to point via buttons"
   ]
  },
  {
   "cell_type": "markdown",
   "id": "b52383b4",
   "metadata": {},
   "source": [
    "In the cell below are implemented two button to start/stop the robot go_to_point behavior. To note that the service client is called inside the callback of the start button, whereas inside the callback of the stop button are called **/cmd_vel** publisher to stop the robot and the action client to cancel the goals."
   ]
  },
  {
   "cell_type": "code",
   "execution_count": 2,
   "id": "152caafc",
   "metadata": {
    "ExecuteTime": {
     "end_time": "2021-06-13T23:59:08.376278Z",
     "start_time": "2021-06-13T23:59:08.290572Z"
    }
   },
   "outputs": [],
   "source": [
    "\n",
    "button_start = widgets.Button(description=\"START\",layout=widgets.Layout(widht='auto',grid_area='b1'),\n",
    "                style=widgets.ButtonStyle(button_color='green'))\n",
    "\n",
    "button_stop = widgets.Button(description=\"STOP\",  layout=widgets.Layout(width='auto', grid_area='b2'),\n",
    "                    style=widgets.ButtonStyle(button_color='red'))\n",
    "\n",
    "def clicked_start(b): \n",
    "     global start_time\n",
    "     global active\n",
    "     #call the service client\n",
    "     ui_client(\"start\")      \n",
    "     active=True\n",
    "     start_time=time.time() \n",
    "        \n",
    "def clicked_stop(b):\n",
    "     global cancelled\n",
    "     global stop_time\n",
    "     global active\n",
    "     global data\n",
    "     # call the action client\n",
    "     client.cancel_all_goals()\n",
    "     twist_msg = Twist()\n",
    "     twist_msg.linear.x = 0\n",
    "     twist_msg.linear.y = 0\n",
    "     twist_msg.angular.z = 0\n",
    "     #publish a zero velocity\n",
    "     pub.publish(twist_msg)\n",
    "     ui_client(\"stop\")\n",
    "     if active==True:\n",
    "         cancelled = cancelled + 1 \n",
    "         active=False\n",
    "         stop_time=time.time()\n",
    "         data.append(stop_time-start_time)\n",
    " \n",
    "# on click method: code inside the clbk is executed only once the button is clicked\n",
    "\n",
    "button_start.on_click(clicked_start)\n",
    "button_stop.on_click(clicked_stop)"
   ]
  },
  {
   "cell_type": "code",
   "execution_count": 3,
   "id": "41130026",
   "metadata": {
    "ExecuteTime": {
     "end_time": "2021-06-13T23:59:08.465954Z",
     "start_time": "2021-06-13T23:59:08.403939Z"
    }
   },
   "outputs": [
    {
     "data": {
      "application/vnd.jupyter.widget-view+json": {
       "model_id": "a9596a26cb2e44c5af4ca50373c362e0",
       "version_major": 2,
       "version_minor": 0
      },
      "text/plain": [
       "GridBox(children=(Button(description='START', layout=Layout(grid_area='b1'), style=ButtonStyle(button_color='g…"
      ]
     },
     "metadata": {},
     "output_type": "display_data"
    }
   ],
   "source": [
    "#grid box is used to order buttons\n",
    "widgets.GridBox(children=[button_start,button_stop],\n",
    "                layout=widgets.Layout(width='80%',grid_template_rows='auto auto auto',\n",
    "                grid_template_columns='16% 16% 16% 16% 16% 16% ',\n",
    "                grid_template_areas='''\"b1 b2 . . . \"''')\n",
    "               )"
   ]
  },
  {
   "cell_type": "markdown",
   "id": "be7d478c",
   "metadata": {},
   "source": [
    "In the followed cell there is the subscriber of the **/go_to_point/result**. The clbk is executed only once a goal is reached. Inside the clbk are updated different variables used to visualize robot behavior."
   ]
  },
  {
   "cell_type": "code",
   "execution_count": 4,
   "id": "dd60b2df",
   "metadata": {
    "ExecuteTime": {
     "end_time": "2021-06-13T23:59:33.300001Z",
     "start_time": "2021-06-13T23:59:33.162006Z"
    }
   },
   "outputs": [
    {
     "data": {
      "application/vnd.jupyter.widget-view+json": {
       "model_id": "e3fd44ed95304cefb1c0faf1a30c5e84",
       "version_major": 2,
       "version_minor": 0
      },
      "text/plain": [
       "VBox(children=(HBox(children=(Button(description='Stop', style=ButtonStyle()),)), Output(layout=Layout(border=…"
      ]
     },
     "metadata": {},
     "output_type": "display_data"
    }
   ],
   "source": [
    "def clb(msg):\n",
    "  global reached\n",
    "  global start_time,stop_time\n",
    "  global take\n",
    "  global data \n",
    "  stop_time=time.time()\n",
    "  data.append(stop_time-start_time)\n",
    "  start_time=time.time()\n",
    "  reached = reached+1\n",
    "  \n",
    "\n",
    "jr.subscribe('/go_to_point/result',GoalReachingActionResult, clb)"
   ]
  },
  {
   "cell_type": "markdown",
   "id": "2cea0e2d",
   "metadata": {},
   "source": [
    "## Set linear/angular velocity via sliders"
   ]
  },
  {
   "cell_type": "markdown",
   "id": "26f69852",
   "metadata": {},
   "source": [
    "There are inserted two slider through which the user can chose a suitable linear or angular velocity to pilot the robot"
   ]
  },
  {
   "cell_type": "code",
   "execution_count": 5,
   "id": "4cc0cd4d",
   "metadata": {
    "ExecuteTime": {
     "end_time": "2021-06-13T23:59:37.594772Z",
     "start_time": "2021-06-13T23:59:37.479708Z"
    }
   },
   "outputs": [
    {
     "data": {
      "application/vnd.jupyter.widget-view+json": {
       "model_id": "2fd7bdb3682643e7b2fb8316f6c02025",
       "version_major": 2,
       "version_minor": 0
      },
      "text/plain": [
       "FloatSlider(value=0.0, description='linear velocity', max=1.0, min=-1.0, style=SliderStyle(handle_color='light…"
      ]
     },
     "metadata": {},
     "output_type": "display_data"
    },
    {
     "data": {
      "application/vnd.jupyter.widget-view+json": {
       "model_id": "9a132ee610df4ca6bee8771d5e2275c6",
       "version_major": 2,
       "version_minor": 0
      },
      "text/plain": [
       "FloatSlider(value=0.0, description='angular velocity', max=1.0, min=-1.0, style=SliderStyle(handle_color='ligh…"
      ]
     },
     "metadata": {},
     "output_type": "display_data"
    }
   ],
   "source": [
    "msg = Twist()\n",
    "\n",
    "a = widgets.FloatSlider(description='linear velocity' ,min=-1.0, max=1.0)\n",
    "a.style.handle_color = 'lightblue'\n",
    "display(a)\n",
    "\n",
    "b = widgets.FloatSlider(description='angular velocity',min=-1.0, max=1.0)\n",
    "b.style.handle_color = 'lightblue'\n",
    "display(b)\n",
    "\n",
    "\n",
    "def on_value_change(change):\n",
    "    global msg\n",
    "    msg.linear.x = change['new']\n",
    "    pub.publish(msg)\n",
    "    \n",
    "def on_valueang_change(change):\n",
    "    global msg\n",
    "    msg.angular.z = change['new']\n",
    "    pub.publish(msg)\n",
    "\n",
    "a.observe(on_value_change, names='value')\n",
    "b.observe(on_valueang_change, names='value')"
   ]
  },
  {
   "cell_type": "markdown",
   "id": "6e6f9a32",
   "metadata": {},
   "source": [
    "## Button controller of the robot"
   ]
  },
  {
   "cell_type": "markdown",
   "id": "8fd8b489",
   "metadata": {},
   "source": [
    "Through this five buttons the user can directly pilot the robot. In order to do that inside the callback of each button firstly is called **stop()** function in order to stop go_to_point behavior through the action client secondly is published a specific velocity. The values of velocity are set in Twist message according to the choose of the user."
   ]
  },
  {
   "cell_type": "code",
   "execution_count": 6,
   "id": "40316ff0",
   "metadata": {
    "ExecuteTime": {
     "end_time": "2021-06-13T23:59:40.121932Z",
     "start_time": "2021-06-13T23:59:39.924497Z"
    }
   },
   "outputs": [],
   "source": [
    "\n",
    "button_f = widgets.Button(description=\"forward\",layout=Layout(width='auto', grid_area='B1'),\n",
    "style=ButtonStyle(button_color='lightblue'))\n",
    "\n",
    "button_tl = widgets.Button(description=\"turn left\",layout=Layout(width='auto', grid_area='B2'),\n",
    "style=ButtonStyle(button_color='salmon'))\n",
    "\n",
    "button_bw = widgets.Button(description=\"backward\",layout=Layout(width='auto', grid_area='B3'),\n",
    "style=ButtonStyle(button_color='lightblue'))\n",
    "\n",
    "button_tr = widgets.Button(description=\"turn right\",layout=Layout(width='auto', grid_area='B4'),\n",
    "style=ButtonStyle(button_color='salmon'))\n",
    "\n",
    "button_s = widgets.Button(description=\"stop\",layout=Layout(width='auto', grid_area='B5'),\n",
    "style=ButtonStyle(button_color='red'))\n",
    "\n",
    "\n",
    "\n",
    "def stop():\n",
    "     global cancelled\n",
    "     global stop_time\n",
    "     global take,active\n",
    "     global data\n",
    "     client.cancel_all_goals()\n",
    "     twist_msg = Twist()\n",
    "     twist_msg.linear.x = 0\n",
    "     twist_msg.linear.y = 0\n",
    "     twist_msg.angular.z = 0\n",
    "     pub.publish(twist_msg)\n",
    "     ui_client(\"stop\")\n",
    "     if active==True:\n",
    "         cancelled = cancelled + 1 \n",
    "         active=False\n",
    "         stop_time=time.time()\n",
    "         data.append(stop_time-start_time)\n",
    "        \n",
    "def clicked_f(f):\n",
    "     stop()\n",
    "     twist_msg = Twist()\n",
    "     twist_msg.linear.x = 1\n",
    "     twist_msg.linear.y=0\n",
    "     twist_msg.angular.z = 0\n",
    "     pub.publish(twist_msg)\n",
    "        \n",
    "def clicked_tl(f):\n",
    "     stop()\n",
    "     twist_msg = Twist()\n",
    "     twist_msg.linear.x = 0\n",
    "     twist_msg.linear.y=0\n",
    "     twist_msg.angular.z = 1\n",
    "     pub.publish(twist_msg)\n",
    "        \n",
    "def clicked_tr(f):\n",
    "     stop()\n",
    "     twist_msg = Twist()\n",
    "     twist_msg.linear.x = 0\n",
    "     twist_msg.linear.y=0\n",
    "     twist_msg.angular.z = -1\n",
    "     pub.publish(twist_msg)\n",
    "        \n",
    "def clicked_bw(f):\n",
    "     stop()\n",
    "     twist_msg = Twist()\n",
    "     twist_msg.linear.x = -1\n",
    "     twist_msg.linear.y=0\n",
    "     twist_msg.angular.z = 0\n",
    "     pub.publish(twist_msg)\n",
    "    \n",
    "def clicked_s(b):\n",
    "     stop()\n",
    "     twist_msg = Twist()\n",
    "     twist_msg.linear.x = 0\n",
    "     twist_msg.linear.y=0\n",
    "     twist_msg.angular.z = 0\n",
    "     pub.publish(twist_msg)\n",
    "    \n",
    "\n",
    "            \n",
    "            \n",
    "button_f.on_click(clicked_f)\n",
    "button_tr.on_click(clicked_tr)\n",
    "button_bw.on_click(clicked_bw)\n",
    "button_tl.on_click(clicked_tl)\n",
    "button_s.on_click(clicked_s)\n",
    "\n"
   ]
  },
  {
   "cell_type": "code",
   "execution_count": 7,
   "id": "96e60fde",
   "metadata": {
    "ExecuteTime": {
     "end_time": "2021-06-13T23:59:41.152642Z",
     "start_time": "2021-06-13T23:59:41.099783Z"
    }
   },
   "outputs": [
    {
     "data": {
      "application/vnd.jupyter.widget-view+json": {
       "model_id": "f613d582cca447d8a3d5f9d8a715e655",
       "version_major": 2,
       "version_minor": 0
      },
      "text/plain": [
       "GridBox(children=(Button(description='forward', layout=Layout(grid_area='B1', width='auto'), style=ButtonStyle…"
      ]
     },
     "metadata": {},
     "output_type": "display_data"
    }
   ],
   "source": [
    "widgets.GridBox(children=[button_f, button_bw,button_tl,button_tr ,button_s],\n",
    "                layout=widgets.Layout(width='80%',grid_template_rows='auto auto auto',\n",
    "                grid_template_columns='16% 16% 16% 16% 16% 16% ',\n",
    "                grid_template_areas='''\". .  . B1  . .\"\". . B2 B5 B4 . \"\" . .  . B3 . . \"''')\n",
    "               )"
   ]
  },
  {
   "cell_type": "markdown",
   "id": "9d977479",
   "metadata": {},
   "source": [
    "## Reached and Cancelled goal visualization through barplot"
   ]
  },
  {
   "cell_type": "markdown",
   "id": "1f682512",
   "metadata": {},
   "source": [
    "In this cell is inserted a barplot to visualize reached and cancelled targets. The values **reached** is updated inside the callback of **/go_to_point/result** whereas the **cancelled** variable is increased each time action client is called (if reaching goal behavior is active)"
   ]
  },
  {
   "cell_type": "code",
   "execution_count": null,
   "id": "f0a9b3f6",
   "metadata": {
    "ExecuteTime": {
     "end_time": "2021-06-13T22:38:44.427388Z",
     "start_time": "2021-06-13T22:38:44.378323Z"
    }
   },
   "outputs": [],
   "source": [
    "y = (reached,cancelled)\n",
    "index = np.arange(2)\n",
    "\n",
    "f1,axis2= plt.bar(index,y,width=0.5,color='b')\n",
    "plt.ylabel('Scores')\n",
    "plt.title('Reached and cancelled targets')\n",
    "plt.xticks(index, ('reached', 'cancelled'))\n",
    "plt.show()"
   ]
  },
  {
   "cell_type": "markdown",
   "id": "04f66aa1",
   "metadata": {},
   "source": [
    "## Mean time to reach a goal: histogram visualization"
   ]
  },
  {
   "cell_type": "markdown",
   "id": "dfedf890",
   "metadata": {},
   "source": [
    "The histogram shows the mean time to reach a goal in go_to_point behavior. To compute the value a timer is set each time the robot starts to reach a goal and terminated once the goal is reached."
   ]
  },
  {
   "cell_type": "code",
   "execution_count": null,
   "id": "2fe7cfff",
   "metadata": {
    "ExecuteTime": {
     "end_time": "2021-06-12T21:33:50.759621Z",
     "start_time": "2021-06-12T21:33:50.712164Z"
    }
   },
   "outputs": [],
   "source": [
    "X=list(range(0,len(data),1))\n",
    "fig2=plt.subplot(111)\n",
    "plt.bar(X,data,width=0.5,color='r')\n",
    "plt.ylabel('time (s)')\n",
    "plt.title('Mean time to reach a target')\n",
    "plt.show()"
   ]
  },
  {
   "cell_type": "markdown",
   "id": "b63c7f41",
   "metadata": {},
   "source": [
    "## Figures with the animator"
   ]
  },
  {
   "cell_type": "markdown",
   "id": "d21cb1da",
   "metadata": {},
   "source": [
    "In the followed cell are represented firstly **/cmd_vel** and **/odom** linear velocity and angular velocity as lines. Values to show are continuously updated inside the callback whereas inside the animator figures are reshaped."
   ]
  },
  {
   "cell_type": "markdown",
   "id": "4910fb49",
   "metadata": {},
   "source": [
    "## Linear velocity"
   ]
  },
  {
   "cell_type": "code",
   "execution_count": null,
   "id": "f51f9854",
   "metadata": {
    "ExecuteTime": {
     "end_time": "2021-06-12T21:07:45.388770Z",
     "start_time": "2021-06-12T21:07:45.384117Z"
    }
   },
   "outputs": [],
   "source": [
    "#get the offset of time\n",
    "clock1 = time.time() \n",
    "time1 = list(range(0, 10))\n",
    "odom_linear =list()\n",
    "cmdvel_linear=list()"
   ]
  },
  {
   "cell_type": "code",
   "execution_count": null,
   "id": "7f2fd973",
   "metadata": {
    "ExecuteTime": {
     "end_time": "2021-06-12T21:07:46.704020Z",
     "start_time": "2021-06-12T21:07:46.656394Z"
    }
   },
   "outputs": [],
   "source": [
    "def init1():\n",
    "    line1.set_data([], [])\n",
    "    line2.set_data([], [])\n",
    "    return [line1,line2]\n",
    "\n",
    "def clb_odom1(msg):\n",
    "    if len(time1)>10:\n",
    "      time1.pop(0)\n",
    "     \n",
    "    if len(odom_linear)>10:\n",
    "      odom_linear.pop(0)\n",
    "    #read velocity from /odom\n",
    "    iupsilon = np.float32(msg.twist.twist.linear.x) \n",
    "    ix = np.float32(time.time()-clock1)\n",
    "    #update the array\n",
    "    odom_linear.append(iupsilon)\n",
    "    time1.append(ix)\n",
    "    \n",
    "   \n",
    "\n",
    "jr.subscribe('/odom',Odometry, clb_odom1)\n",
    "    "
   ]
  },
  {
   "cell_type": "code",
   "execution_count": null,
   "id": "a9c00563",
   "metadata": {
    "ExecuteTime": {
     "end_time": "2021-06-12T21:07:48.227370Z",
     "start_time": "2021-06-12T21:07:48.148641Z"
    }
   },
   "outputs": [],
   "source": [
    "def clb_cmdvel1(msg):\n",
    "    if len(cmdvel_linear)>10:\n",
    "      cmdvel_linear.pop(0)\n",
    "    #read velocity from /cmd_vel\n",
    "    iupsilon = np.float32(msg.linear.x)\n",
    "    #update array\n",
    "    cmdvel_linear.append(iupsilon)\n",
    "    \n",
    "\n",
    "jr.subscribe('/cmd_vel', Twist, clb_cmdvel1)"
   ]
  },
  {
   "cell_type": "code",
   "execution_count": null,
   "id": "8b83a499",
   "metadata": {
    "ExecuteTime": {
     "end_time": "2021-06-12T21:07:49.115501Z",
     "start_time": "2021-06-12T21:07:49.035602Z"
    }
   },
   "outputs": [],
   "source": [
    "fig1, ax1 = plt.subplots()\n",
    "\n",
    "\n",
    "\n",
    "line1, = ax1.plot([], [], color ='r', label ='/odom')\n",
    "line2, = ax1.plot([], [], color ='b', label ='/cmd_vel')\n",
    "ax1.set_xlabel('time (s)') \n",
    "ax1.set_ylabel('velocity m/s')\n",
    "ax1.set_title(\"Linear velocity\")\n",
    "plt.legend(loc='upper right')"
   ]
  },
  {
   "cell_type": "code",
   "execution_count": null,
   "id": "2553fc42",
   "metadata": {
    "ExecuteTime": {
     "end_time": "2021-06-12T21:07:55.119734Z",
     "start_time": "2021-06-12T21:07:55.113586Z"
    }
   },
   "outputs": [],
   "source": [
    "def animate1(i):\n",
    "    #updated values are set in the line\n",
    "    line1.set_data(time1, odom_linear)\n",
    "    line2.set_data(time1, cmdvel_linear)\n",
    "    ax1.axis([time1[0]-0.2,time1[9]+0.2,-0.5,0.5]) #x axis is continously updated too   \n",
    "    return [line1,line2]\n",
    "\n",
    "#animator\n",
    "anim1 = animation.FuncAnimation(fig1, animate1, init_func=init1,\n",
    "                               frames=100, interval=20, blit=True)"
   ]
  },
  {
   "cell_type": "markdown",
   "id": "bd20de85",
   "metadata": {},
   "source": [
    "## Angular velocity"
   ]
  },
  {
   "cell_type": "code",
   "execution_count": null,
   "id": "d8b41fe9",
   "metadata": {
    "ExecuteTime": {
     "end_time": "2021-06-12T21:08:22.479123Z",
     "start_time": "2021-06-12T21:08:22.473110Z"
    }
   },
   "outputs": [],
   "source": [
    "#get the offset for time\n",
    "clock2 = time.time() \n",
    "time2 = list(range(0, 10))\n",
    "odom_angular =list()\n",
    "cmdvel_angular=list()"
   ]
  },
  {
   "cell_type": "code",
   "execution_count": null,
   "id": "d0171f6b",
   "metadata": {
    "ExecuteTime": {
     "end_time": "2021-06-12T21:08:24.060071Z",
     "start_time": "2021-06-12T21:08:24.003073Z"
    }
   },
   "outputs": [],
   "source": [
    "def init2():\n",
    "    line3.set_data([], [])\n",
    "    line4.set_data([], [])\n",
    "    return [line3,line4]\n",
    "\n",
    "def clb_odom2(msg):\n",
    "    if len(time2)>10:\n",
    "      time2.pop(0)\n",
    "     \n",
    "    if len(odom_angular)>10:\n",
    "      odom_angular.pop(0)\n",
    "    iupsilon = np.float32(msg.twist.twist.angular.z)\n",
    "    ix = np.float32(time.time()-clock2)\n",
    "    #actual data inserted\n",
    "    odom_angular.append(iupsilon)\n",
    "    time2.append(ix)\n",
    "    \n",
    "   \n",
    "\n",
    "jr.subscribe('/odom',Odometry, clb_odom2)"
   ]
  },
  {
   "cell_type": "code",
   "execution_count": null,
   "id": "afe47bc1",
   "metadata": {
    "ExecuteTime": {
     "end_time": "2021-06-12T21:08:25.443515Z",
     "start_time": "2021-06-12T21:08:25.384568Z"
    }
   },
   "outputs": [],
   "source": [
    "def clb_cmdvel2(msg):\n",
    "    if len(cmdvel_angular)>10:\n",
    "      cmdvel_angular.pop(0)\n",
    "    iupsilon = np.float32(msg.angular.z)\n",
    "    cmdvel_angular.append(iupsilon)\n",
    "    \n",
    "\n",
    "jr.subscribe('/cmd_vel', Twist, clb_cmdvel2)"
   ]
  },
  {
   "cell_type": "code",
   "execution_count": null,
   "id": "e5edee61",
   "metadata": {
    "ExecuteTime": {
     "end_time": "2021-06-12T21:08:26.935427Z",
     "start_time": "2021-06-12T21:08:26.855856Z"
    }
   },
   "outputs": [],
   "source": [
    "fig2, ax2 = plt.subplots()\n",
    "\n",
    "\n",
    "\n",
    "line3, = ax2.plot([], [], color ='r', label ='/odom')\n",
    "line4, = ax2.plot([], [], color ='b', label ='/cmd_vel')\n",
    "ax2.set_xlabel('time (s)') \n",
    "ax2.set_ylabel('velocity rad/s')\n",
    "ax2.set_title(\"Angular velocity\")\n",
    "plt.legend(loc='upper right')"
   ]
  },
  {
   "cell_type": "code",
   "execution_count": null,
   "id": "ae8f48dc",
   "metadata": {
    "ExecuteTime": {
     "end_time": "2021-06-12T21:08:28.218968Z",
     "start_time": "2021-06-12T21:08:28.212234Z"
    }
   },
   "outputs": [],
   "source": [
    "\n",
    "def animate2(i):\n",
    "    line3.set_data(time2, odom_angular)\n",
    "    line4.set_data(time2, cmdvel_angular)\n",
    "    ax2.axis([time2[0]-0.2,time2[9]+0.2,-0.5,0.5])\n",
    "    return [line3,line4]\n",
    "\n",
    "anim2 = animation.FuncAnimation(fig2, animate2, init_func=init2,\n",
    "                               frames=100, interval=20, blit=True)"
   ]
  },
  {
   "cell_type": "markdown",
   "id": "be163e1a",
   "metadata": {},
   "source": [
    "## Position of the robot in the environment"
   ]
  },
  {
   "cell_type": "markdown",
   "id": "cf898d61",
   "metadata": {},
   "source": [
    "Finally through the animator is plot the x and y position of the robot in the (x,y) plane. According to that it is possible to visualize how robot moves in the environment."
   ]
  },
  {
   "cell_type": "code",
   "execution_count": null,
   "id": "19c09712",
   "metadata": {
    "ExecuteTime": {
     "end_time": "2021-06-13T23:01:24.924418Z",
     "start_time": "2021-06-13T23:01:24.917201Z"
    }
   },
   "outputs": [],
   "source": [
    "x_data=list()\n",
    "y_data=list()"
   ]
  },
  {
   "cell_type": "code",
   "execution_count": null,
   "id": "6b5dbc7a",
   "metadata": {
    "ExecuteTime": {
     "end_time": "2021-06-13T23:01:25.985864Z",
     "start_time": "2021-06-13T23:01:25.879883Z"
    }
   },
   "outputs": [],
   "source": [
    "fig, ax = plt.subplots()\n",
    "\n",
    "ax.set_xlim(( -5, 5))\n",
    "ax.set_ylim((-5, 5))\n",
    "ax.set_xlabel('x axis') \n",
    "ax.set_ylabel('y axis')\n",
    "ax.set_title(\"Position\")\n",
    "line, = ax.plot([], [], 'ro')\n",
    "    "
   ]
  },
  {
   "cell_type": "code",
   "execution_count": null,
   "id": "674cd298",
   "metadata": {
    "ExecuteTime": {
     "end_time": "2021-06-13T23:01:28.049258Z",
     "start_time": "2021-06-13T23:01:27.928158Z"
    }
   },
   "outputs": [],
   "source": [
    "def init():\n",
    "    line.set_data([], [])\n",
    "    return (line,)\n",
    "\n",
    "\n",
    "    \n",
    "def odom_callback(msg):\n",
    "    if len(x_data)>50:\n",
    "      x_data.pop(0)\n",
    "      \n",
    "    if len(y_data)>50:\n",
    "      y_data.pop(0)\n",
    "    \n",
    "    iupsilon = np.float32(msg.pose.pose.position.y)\n",
    "    ix = np.float32(msg.pose.pose.position.x)\n",
    "    y_data.append(iupsilon)\n",
    "    x_data.append(ix)\n",
    "    \n",
    "\n",
    "    \n",
    "\n",
    "\n",
    "\n",
    "jr.subscribe('/odom', Odometry, odom_callback)\n",
    "\n"
   ]
  },
  {
   "cell_type": "code",
   "execution_count": null,
   "id": "901b841b",
   "metadata": {
    "ExecuteTime": {
     "end_time": "2021-06-13T23:01:32.188134Z",
     "start_time": "2021-06-13T23:01:32.182984Z"
    }
   },
   "outputs": [],
   "source": [
    "def animate(i):\n",
    "    line.set_data(x_data, y_data)\n",
    "    return (line,)\n",
    "\n",
    "anim = animation.FuncAnimation(fig, animate, init_func=init,\n",
    "                               frames=100, interval=20, blit=True)"
   ]
  },
  {
   "cell_type": "markdown",
   "id": "b15df01f",
   "metadata": {},
   "source": [
    "## Orientation of the robot"
   ]
  },
  {
   "cell_type": "markdown",
   "id": "22531a67",
   "metadata": {},
   "source": [
    "The orientation is shown as an arrow place where robot is in the environment and with the same orientation of the robot. **axis.quiver** allows to show the arrow, the orientation of the arrow is updated inside the animator."
   ]
  },
  {
   "cell_type": "code",
   "execution_count": null,
   "id": "e88e3552",
   "metadata": {
    "ExecuteTime": {
     "end_time": "2021-06-13T23:01:35.930288Z",
     "start_time": "2021-06-13T23:01:35.788298Z"
    }
   },
   "outputs": [],
   "source": [
    "fig4, ax4 = plt.subplots()\n",
    "\n",
    "ax4.quiver(0,0,dx,dy,label='Orientation')\n",
    "ax4.set_title(\"Orientation\")\n",
    "ax4.legend()\n",
    "line4, = ax.plot([], [], 'ro')"
   ]
  },
  {
   "cell_type": "code",
   "execution_count": null,
   "id": "d392582d",
   "metadata": {
    "ExecuteTime": {
     "end_time": "2021-06-13T23:01:51.443036Z",
     "start_time": "2021-06-13T23:01:51.418092Z"
    }
   },
   "outputs": [],
   "source": [
    "def init4():\n",
    "    ax4.arrow(0,0,dx,dy,label='Orientation')\n",
    "    return (line4,)\n",
    "\n",
    "def animate4(i):\n",
    "    ax4.clear()\n",
    "    ax4.quiver(x_data[48],y_data[48],x_data[49]-x_data[48],y_data[49]-y_data[48],label='Orientation')\n",
    "    ax4.legend()\n",
    "    ax4.set_title(\"Orientation\")\n",
    "    return (line4,)\n",
    "\n",
    "anim4=animation.FuncAnimation(fig4, animate4, init_func=init4, frames=1, interval=100, blit=True)"
   ]
  },
  {
   "cell_type": "markdown",
   "id": "bf91174f",
   "metadata": {
    "ExecuteTime": {
     "end_time": "2021-06-14T02:48:08.153428Z",
     "start_time": "2021-06-14T02:48:08.146783Z"
    }
   },
   "source": [
    ">NOTE: doxygen documentation has been generated inside **action** branch "
   ]
  },
  {
   "cell_type": "markdown",
   "id": "e5d30ee9",
   "metadata": {},
   "source": []
  }
 ],
 "metadata": {
  "kernelspec": {
   "display_name": "Python 3",
   "language": "python",
   "name": "python3"
  },
  "language_info": {
   "codemirror_mode": {
    "name": "ipython",
    "version": 3
   },
   "file_extension": ".py",
   "mimetype": "text/x-python",
   "name": "python",
   "nbconvert_exporter": "python",
   "pygments_lexer": "ipython3",
   "version": "3.8.5"
  }
 },
 "nbformat": 4,
 "nbformat_minor": 5
}
